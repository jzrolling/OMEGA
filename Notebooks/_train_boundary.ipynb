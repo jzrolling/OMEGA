{
 "cells": [
  {
   "cell_type": "code",
   "execution_count": null,
   "metadata": {},
   "outputs": [],
   "source": []
  },
  {
   "cell_type": "code",
   "execution_count": null,
   "metadata": {},
   "outputs": [],
   "source": [
    "m = om.Image()\n",
    "m.read_nd2_file('/Users/jz-rolling/Desktop/OMEGA/demo_data/mild_clumping.nd2')\n",
    "m.config = om.config.Preset_configurations_default().config\n",
    "m.enhance_brightfield()\n",
    "m.enhance_fluorescence()\n",
    "m.locate_clusters()\n",
    "m.cluster_segmentation(method='annotation', \n",
    "                       model=None)\n",
    "#m.cell_segmentation(split_branches=True,threshold=40)\n",
    "#om.io.plot_segmented_image(m,savefig=True,\n",
    "                           #filename='/Users/jz-rolling/Desktop/segmented.png',lw=0.3)\n",
    "boundaries_metics = []\n",
    "counter=0\n",
    "is_True=1\n",
    "\n",
    "for k,c in m.clusters.items():\n",
    "    for i,b in c.boundary_pairwise_dict.items():\n",
    "        img = boundary_annotation_pic(b,c)\n",
    "        metrics = list(b.metrics.values())\n",
    "        boundaries_metics.append(metrics)\n",
    "        om.io.tifffile.imsave('/Users/jz-rolling/Desktop/OMEGA/Boundary_training_set/Training_set_2/sample_{}.tif'.format(counter),\n",
    "                              img,\n",
    "                              imagej=True)\n",
    "        counter+=1\n",
    "\n",
    "boundaries_metics = np.array(boundaries_metics)\n",
    "df = pd.DataFrame(boundaries_metics, columns=list(b.metrics.keys()))\n",
    "df.to_excel('/Users/jz-rolling/Desktop/OMEGA/Boundary_training_set/Training_set_2/training_set2_data.xls')"
   ]
  },
  {
   "cell_type": "code",
   "execution_count": null,
   "metadata": {},
   "outputs": [],
   "source": [
    "boundaries_metics = []\n",
    "counter=0\n",
    "is_True=1\n",
    "\n",
    "for k,c in m.clusters.items():\n",
    "    for i,b in c.boundary_pairwise_dict.items():\n",
    "        img = boundary_annotation_pic(b,c)\n",
    "        metrics = list(b.metrics.values())\n",
    "        boundaries_metics.append(metrics)\n",
    "        om.io.tifffile.imsave('/Users/jz-rolling/Desktop/OMEGA/Boundary_training_set/Training_set_1/sample_{}.tif'.format(counter),\n",
    "                              img,\n",
    "                              imagej=True)\n",
    "        counter+=1\n",
    "\n",
    "boundaries_metics = np.array(boundaries_metics)\n",
    "df = pd.DataFrame(boundaries_metics, columns=list(b.metrics.keys()))\n",
    "df.to_excel('/Users/jz-rolling/Desktop/OMEGA/Boundary_training_set/Training_set_1/training_set1_data.xls')\n",
    "\n",
    "\n"
   ]
  },
  {
   "cell_type": "code",
   "execution_count": null,
   "metadata": {},
   "outputs": [],
   "source": [
    "class_1_id = []\n",
    "class_2_id = []\n",
    "for x in sorted(glob.glob('/Users/jz-rolling/Desktop/OMEGA/Boundary_training_set/Training_set_1/Class_1/*.tif')):\n",
    "    class_1_id.append(int(x.split('/')[-1].split('_')[-1][:-4]))\n",
    "    \n",
    "for y in sorted(glob.glob('/Users/jz-rolling/Desktop/OMEGA/Boundary_training_set/Training_set_1/Class_2/*.tif')):\n",
    "    class_2_id.append(int(y.split('/')[-1].split('_')[-1][:-4]))\n",
    "    \n",
    "df = pd.read_excel('/Users/jz-rolling/Desktop/OMEGA/Boundary_training_set/Training_set_1/training_set1_data.xls')\n",
    "labels = np.zeros(len(df1))\n",
    "labels[np.array(class_1_id)]=0\n",
    "labels[np.array(class_2_id)]=1\n",
    "df['label'] = labels\n",
    "df.to_excel('/Users/jz-rolling/Desktop/OMEGA/Boundary_training_set/Training_set_1/training_set1_data.xls',index=False)"
   ]
  },
  {
   "cell_type": "code",
   "execution_count": null,
   "metadata": {},
   "outputs": [],
   "source": [
    "d = StandardScaler().fit_transform(concat_df[concat_df.columns[1:-1]])\n",
    "#d = concat_df[concat_df.columns[1:-1]].values\n",
    "model = MLPClassifier(solver='lbfgs', alpha=1e-5, tol=0.0001, max_iter=1000,\n",
    "                      hidden_layer_sizes=(5, 2), random_state=42)\n",
    "model.fit(d,concat_df['label'])"
   ]
  },
  {
   "cell_type": "code",
   "execution_count": null,
   "metadata": {},
   "outputs": [],
   "source": [
    "pk.dump(model,open('/Users/jz-rolling/Desktop/OMEGA/OMEGA_core/configurations/boundary_MLP.pk','wb'))\n",
    "pk.dump(normalizer,open('/Users/jz-rolling/Desktop/OMEGA/OMEGA_core/configurations/normalizer.pk','wb'))"
   ]
  }
 ],
 "metadata": {
  "kernelspec": {
   "display_name": "Python 3",
   "language": "python",
   "name": "python3"
  },
  "language_info": {
   "codemirror_mode": {
    "name": "ipython",
    "version": 3
   },
   "file_extension": ".py",
   "mimetype": "text/x-python",
   "name": "python",
   "nbconvert_exporter": "python",
   "pygments_lexer": "ipython3",
   "version": "3.7.4"
  }
 },
 "nbformat": 4,
 "nbformat_minor": 4
}
